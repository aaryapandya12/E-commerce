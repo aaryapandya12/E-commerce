{
  "nbformat": 4,
  "nbformat_minor": 0,
  "metadata": {
    "colab": {
      "provenance": [],
      "authorship_tag": "ABX9TyPeP85Wv+fjwVRgpYM7ue6A",
      "include_colab_link": true
    },
    "kernelspec": {
      "name": "python3",
      "display_name": "Python 3"
    },
    "language_info": {
      "name": "python"
    }
  },
  "cells": [
    {
      "cell_type": "markdown",
      "metadata": {
        "id": "view-in-github",
        "colab_type": "text"
      },
      "source": [
        "<a href=\"https://colab.research.google.com/github/aaryapandya12/E-commerce/blob/main/language_detection_model.ipynb\" target=\"_parent\"><img src=\"https://colab.research.google.com/assets/colab-badge.svg\" alt=\"Open In Colab\"/></a>"
      ]
    },
    {
      "cell_type": "code",
      "execution_count": 3,
      "metadata": {
        "colab": {
          "base_uri": "https://localhost:8080/"
        },
        "id": "aRerW4YdvEdW",
        "outputId": "0540c190-3b7b-42ca-effb-576007d6feea"
      },
      "outputs": [
        {
          "output_type": "stream",
          "name": "stdout",
          "text": [
            "Training model...\n"
          ]
        },
        {
          "output_type": "stream",
          "name": "stderr",
          "text": [
            "/usr/local/lib/python3.11/dist-packages/sklearn/linear_model/_logistic.py:1247: FutureWarning: 'multi_class' was deprecated in version 1.5 and will be removed in 1.7. From then on, it will always use 'multinomial'. Leave it to its default value to avoid this warning.\n",
            "  warnings.warn(\n"
          ]
        },
        {
          "output_type": "stream",
          "name": "stdout",
          "text": [
            "\n",
            "Accuracy: 0.9888781431334622\n",
            "\n",
            "Classification Report:\n",
            "               precision    recall  f1-score   support\n",
            "\n",
            "      Arabic       1.00      1.00      1.00       107\n",
            "      Danish       0.99      0.97      0.98        86\n",
            "       Dutch       0.98      0.97      0.98       109\n",
            "     English       0.98      0.99      0.99       277\n",
            "      French       0.98      0.99      0.98       203\n",
            "      German       1.00      0.99      0.99        94\n",
            "       Greek       1.00      1.00      1.00        73\n",
            "       Hindi       1.00      1.00      1.00        12\n",
            "     Italian       0.99      0.98      0.98       140\n",
            "     Kannada       1.00      1.00      1.00        74\n",
            "   Malayalam       1.00      1.00      1.00       119\n",
            "  Portugeese       0.98      0.99      0.98       148\n",
            "     Russian       1.00      0.99      0.99       138\n",
            "     Spanish       0.99      0.98      0.99       164\n",
            "    Sweedish       0.99      0.99      0.99       135\n",
            "       Tamil       1.00      1.00      1.00        94\n",
            "     Turkish       0.99      1.00      0.99        95\n",
            "\n",
            "    accuracy                           0.99      2068\n",
            "   macro avg       0.99      0.99      0.99      2068\n",
            "weighted avg       0.99      0.99      0.99      2068\n",
            "\n"
          ]
        },
        {
          "output_type": "execute_result",
          "data": {
            "text/plain": [
              "['label_encoder.pkl']"
            ]
          },
          "metadata": {},
          "execution_count": 3
        }
      ],
      "source": [
        "import pandas as pd\n",
        "from sklearn.model_selection import train_test_split, GridSearchCV\n",
        "from sklearn.feature_extraction.text import TfidfVectorizer\n",
        "from sklearn.naive_bayes import MultinomialNB\n",
        "from sklearn.linear_model import LogisticRegression\n",
        "from sklearn.ensemble import VotingClassifier\n",
        "from sklearn.pipeline import Pipeline\n",
        "from sklearn.metrics import classification_report, accuracy_score\n",
        "from sklearn.preprocessing import LabelEncoder\n",
        "\n",
        "df = pd.read_csv('Language Detection.csv')\n",
        "\n",
        "df['Text'] = df['Text'].str.lower().str.replace(r'[^\\w\\s]', '', regex=True)\n",
        "\n",
        "X = df['Text']\n",
        "y = df['Language']\n",
        "\n",
        "label_encoder = LabelEncoder()\n",
        "y_encoded = label_encoder.fit_transform(y)\n",
        "\n",
        "X_train, X_test, y_train, y_test = train_test_split(\n",
        "    X, y_encoded, test_size=0.2, random_state=42, stratify=y_encoded\n",
        ")\n",
        "\n",
        "pipeline = Pipeline([\n",
        "    ('tfidf', TfidfVectorizer(\n",
        "        analyzer='char',\n",
        "        ngram_range=(1, 4),\n",
        "        min_df=3,\n",
        "        max_features=10000\n",
        "    )),\n",
        "    ('clf', MultinomialNB(\n",
        "        alpha=0.1,\n",
        "        fit_prior=True\n",
        "    ))\n",
        "])\n",
        "\n",
        "logreg = LogisticRegression(\n",
        "    max_iter=1000,\n",
        "    C=1.0,\n",
        "    solver='lbfgs',\n",
        "    multi_class='multinomial'\n",
        ")\n",
        "\n",
        "ensemble = VotingClassifier(\n",
        "    estimators=[\n",
        "        ('nb', pipeline),\n",
        "        ('lr', Pipeline([\n",
        "            ('tfidf', TfidfVectorizer(\n",
        "                analyzer='char',\n",
        "                ngram_range=(1, 4),\n",
        "                min_df=3,\n",
        "                max_features=10000\n",
        "            )),\n",
        "            ('clf', logreg)\n",
        "        ]))\n",
        "    ],\n",
        "    voting='soft',\n",
        "    weights=[0.6, 0.4]\n",
        ")\n",
        "\n",
        "print(\"Training model...\")\n",
        "ensemble.fit(X_train, y_train)\n",
        "\n",
        "y_pred = ensemble.predict(X_test)\n",
        "print(\"\\nAccuracy:\", accuracy_score(y_test, y_pred))\n",
        "print(\"\\nClassification Report:\\n\",\n",
        "      classification_report(y_test, y_pred, target_names=label_encoder.classes_))\n",
        "\n",
        "import joblib\n",
        "joblib.dump(ensemble, 'language_detection_model.pkl')\n",
        "joblib.dump(label_encoder, 'label_encoder.pkl')"
      ]
    }
  ]
}